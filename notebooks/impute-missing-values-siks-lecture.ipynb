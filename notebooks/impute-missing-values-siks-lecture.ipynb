{
 "cells": [
  {
   "cell_type": "code",
   "execution_count": null,
   "metadata": {},
   "outputs": [],
   "source": [
    "import numpy as np"
   ]
  },
  {
   "cell_type": "code",
   "execution_count": null,
   "metadata": {},
   "outputs": [],
   "source": [
    "from jenga.tasks.income import IncomeEstimationTask\n",
    "\n",
    "task = IncomeEstimationTask(seed=42)"
   ]
  },
  {
   "cell_type": "code",
   "execution_count": null,
   "metadata": {},
   "outputs": [],
   "source": [
    "model = task.fit_baseline_model(task.train_data, task.train_labels)"
   ]
  },
  {
   "cell_type": "code",
   "execution_count": null,
   "metadata": {},
   "outputs": [],
   "source": [
    "y_pred = model.predict_proba(task.test_data)\n",
    "\n",
    "f\"The ROC AUC score on the test data is {task.score_on_test_data(y_pred)}\""
   ]
  },
  {
   "cell_type": "code",
   "execution_count": null,
   "metadata": {},
   "outputs": [],
   "source": [
    "task.test_data"
   ]
  },
  {
   "cell_type": "markdown",
   "metadata": {},
   "source": [
    "### Missing values in the 'age' column"
   ]
  },
  {
   "cell_type": "code",
   "execution_count": null,
   "metadata": {},
   "outputs": [],
   "source": [
    "from jenga.corruptions.generic import MissingValues\n",
    "\n",
    "age_corruption = MissingValues(column='age', fraction=0.8, na_value=-1.0)\n",
    "\n",
    "corrupted_test_data = age_corruption.transform(task.test_data)\n",
    "y_pred = model.predict_proba(corrupted_test_data)\n",
    "\n",
    "f\"The ROC AUC score on the corrupted test data is {task.score_on_test_data(y_pred)}\""
   ]
  },
  {
   "cell_type": "markdown",
   "metadata": {},
   "source": [
    "Cleaning via mean imputation"
   ]
  },
  {
   "cell_type": "code",
   "execution_count": null,
   "metadata": {},
   "outputs": [],
   "source": [
    "mean_age = np.mean(task.train_data.age.values)\n",
    "mean_age"
   ]
  },
  {
   "cell_type": "code",
   "execution_count": null,
   "metadata": {},
   "outputs": [],
   "source": [
    "clean_test_data = corrupted_test_data.copy(deep=True)\n",
    "clean_test_data.loc[clean_test_data['age'] < 0, 'age'] = mean_age\n",
    "clean_test_data"
   ]
  },
  {
   "cell_type": "code",
   "execution_count": null,
   "metadata": {},
   "outputs": [],
   "source": [
    "y_pred_cleaned = model.predict_proba(clean_test_data)\n",
    "\n",
    "f\"The ROC AUC score on the corrupted test data is {task.score_on_test_data(y_pred_cleaned)}\""
   ]
  },
  {
   "cell_type": "markdown",
   "metadata": {},
   "source": [
    "### Missing values in 'marital_status'"
   ]
  },
  {
   "cell_type": "code",
   "execution_count": null,
   "metadata": {},
   "outputs": [],
   "source": [
    "from jenga.corruptions.generic import MissingValues\n",
    "\n",
    "marital_status_corruption = MissingValues(column='marital_status', fraction=0.8, na_value=np.nan)\n"
   ]
  },
  {
   "cell_type": "code",
   "execution_count": null,
   "metadata": {},
   "outputs": [],
   "source": [
    "corrupted_test_data = marital_status_corruption.transform(task.test_data)\n",
    "y_pred = model.predict_proba(corrupted_test_data)\n",
    "\n",
    "f\"The ROC AUC score on the corrupted test data is {task.score_on_test_data(y_pred)}\""
   ]
  },
  {
   "cell_type": "code",
   "execution_count": null,
   "metadata": {},
   "outputs": [],
   "source": [
    "corrupted_test_data "
   ]
  },
  {
   "cell_type": "markdown",
   "metadata": {},
   "source": [
    "Cleaning via mode imputation"
   ]
  },
  {
   "cell_type": "code",
   "execution_count": null,
   "metadata": {},
   "outputs": [],
   "source": [
    "task.train_data['marital_status'].value_counts()"
   ]
  },
  {
   "cell_type": "code",
   "execution_count": null,
   "metadata": {},
   "outputs": [],
   "source": [
    "clean_test_data = corrupted_test_data.copy(deep=True)\n",
    "clean_test_data['marital_status'].fillna('Married-civ-spouse', inplace=True)\n",
    "clean_test_data"
   ]
  },
  {
   "cell_type": "code",
   "execution_count": null,
   "metadata": {},
   "outputs": [],
   "source": [
    "y_pred_cleaned = model.predict_proba(clean_test_data)\n",
    "\n",
    "f\"The ROC AUC score on the corrupted test data is {task.score_on_test_data(y_pred_cleaned)}\""
   ]
  }
 ],
 "metadata": {
  "kernelspec": {
   "display_name": "Python 3",
   "language": "python",
   "name": "python3"
  },
  "language_info": {
   "codemirror_mode": {
    "name": "ipython",
    "version": 3
   },
   "file_extension": ".py",
   "mimetype": "text/x-python",
   "name": "python",
   "nbconvert_exporter": "python",
   "pygments_lexer": "ipython3",
   "version": "3.8.5"
  }
 },
 "nbformat": 4,
 "nbformat_minor": 4
}
