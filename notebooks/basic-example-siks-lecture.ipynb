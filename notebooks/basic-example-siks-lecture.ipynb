{
 "cells": [
  {
   "cell_type": "code",
   "execution_count": 1,
   "metadata": {},
   "outputs": [],
   "source": [
    "import numpy as np"
   ]
  },
  {
   "cell_type": "markdown",
   "metadata": {},
   "source": [
    "### Instantiate the prediction task"
   ]
  },
  {
   "cell_type": "code",
   "execution_count": 2,
   "metadata": {},
   "outputs": [],
   "source": [
    "from jenga.tasks.income import IncomeEstimationTask\n",
    "\n",
    "task = IncomeEstimationTask(seed=42)"
   ]
  },
  {
   "cell_type": "markdown",
   "metadata": {},
   "source": [
    "### Task details\n",
    "\n",
    "In this task, we try to predict the income level of a person (more or less than 50K dollars per years) from demographic and work-related data. It is often used as a proxy to study automated decision making for loan applications.\n",
    "\n",
    "The original data is available in the UCI machine learning repository at https://archive.ics.uci.edu/ml/datasets/adult"
   ]
  },
  {
   "cell_type": "code",
   "execution_count": 3,
   "metadata": {},
   "outputs": [
    {
     "data": {
      "text/html": [
       "<div>\n",
       "<style scoped>\n",
       "    .dataframe tbody tr th:only-of-type {\n",
       "        vertical-align: middle;\n",
       "    }\n",
       "\n",
       "    .dataframe tbody tr th {\n",
       "        vertical-align: top;\n",
       "    }\n",
       "\n",
       "    .dataframe thead th {\n",
       "        text-align: right;\n",
       "    }\n",
       "</style>\n",
       "<table border=\"1\" class=\"dataframe\">\n",
       "  <thead>\n",
       "    <tr style=\"text-align: right;\">\n",
       "      <th></th>\n",
       "      <th>workclass</th>\n",
       "      <th>occupation</th>\n",
       "      <th>marital_status</th>\n",
       "      <th>education</th>\n",
       "      <th>hours_per_week</th>\n",
       "      <th>age</th>\n",
       "    </tr>\n",
       "  </thead>\n",
       "  <tbody>\n",
       "    <tr>\n",
       "      <th>24150</th>\n",
       "      <td>Self-emp-not-inc</td>\n",
       "      <td>Prof-specialty</td>\n",
       "      <td>Married-civ-spouse</td>\n",
       "      <td>Bachelors</td>\n",
       "      <td>40</td>\n",
       "      <td>35</td>\n",
       "    </tr>\n",
       "    <tr>\n",
       "      <th>13947</th>\n",
       "      <td>Private</td>\n",
       "      <td>Exec-managerial</td>\n",
       "      <td>Married-civ-spouse</td>\n",
       "      <td>Bachelors</td>\n",
       "      <td>50</td>\n",
       "      <td>45</td>\n",
       "    </tr>\n",
       "    <tr>\n",
       "      <th>30818</th>\n",
       "      <td>Private</td>\n",
       "      <td>Adm-clerical</td>\n",
       "      <td>Divorced</td>\n",
       "      <td>Some-college</td>\n",
       "      <td>40</td>\n",
       "      <td>50</td>\n",
       "    </tr>\n",
       "    <tr>\n",
       "      <th>5318</th>\n",
       "      <td>Local-gov</td>\n",
       "      <td>Protective-serv</td>\n",
       "      <td>Married-civ-spouse</td>\n",
       "      <td>HS-grad</td>\n",
       "      <td>56</td>\n",
       "      <td>39</td>\n",
       "    </tr>\n",
       "    <tr>\n",
       "      <th>3771</th>\n",
       "      <td>Private</td>\n",
       "      <td>Priv-house-serv</td>\n",
       "      <td>Divorced</td>\n",
       "      <td>HS-grad</td>\n",
       "      <td>40</td>\n",
       "      <td>51</td>\n",
       "    </tr>\n",
       "    <tr>\n",
       "      <th>...</th>\n",
       "      <td>...</td>\n",
       "      <td>...</td>\n",
       "      <td>...</td>\n",
       "      <td>...</td>\n",
       "      <td>...</td>\n",
       "      <td>...</td>\n",
       "    </tr>\n",
       "    <tr>\n",
       "      <th>6531</th>\n",
       "      <td>Private</td>\n",
       "      <td>Adm-clerical</td>\n",
       "      <td>Widowed</td>\n",
       "      <td>7th-8th</td>\n",
       "      <td>35</td>\n",
       "      <td>31</td>\n",
       "    </tr>\n",
       "    <tr>\n",
       "      <th>7112</th>\n",
       "      <td>Private</td>\n",
       "      <td>Exec-managerial</td>\n",
       "      <td>Married-civ-spouse</td>\n",
       "      <td>Bachelors</td>\n",
       "      <td>60</td>\n",
       "      <td>36</td>\n",
       "    </tr>\n",
       "    <tr>\n",
       "      <th>11159</th>\n",
       "      <td>NaN</td>\n",
       "      <td>NaN</td>\n",
       "      <td>Married-civ-spouse</td>\n",
       "      <td>Some-college</td>\n",
       "      <td>50</td>\n",
       "      <td>33</td>\n",
       "    </tr>\n",
       "    <tr>\n",
       "      <th>15442</th>\n",
       "      <td>Private</td>\n",
       "      <td>Machine-op-inspct</td>\n",
       "      <td>Divorced</td>\n",
       "      <td>HS-grad</td>\n",
       "      <td>40</td>\n",
       "      <td>26</td>\n",
       "    </tr>\n",
       "    <tr>\n",
       "      <th>14293</th>\n",
       "      <td>Federal-gov</td>\n",
       "      <td>Exec-managerial</td>\n",
       "      <td>Widowed</td>\n",
       "      <td>HS-grad</td>\n",
       "      <td>58</td>\n",
       "      <td>53</td>\n",
       "    </tr>\n",
       "  </tbody>\n",
       "</table>\n",
       "<p>26048 rows × 6 columns</p>\n",
       "</div>"
      ],
      "text/plain": [
       "              workclass         occupation      marital_status     education  \\\n",
       "24150  Self-emp-not-inc     Prof-specialty  Married-civ-spouse     Bachelors   \n",
       "13947           Private    Exec-managerial  Married-civ-spouse     Bachelors   \n",
       "30818           Private       Adm-clerical            Divorced  Some-college   \n",
       "5318          Local-gov    Protective-serv  Married-civ-spouse       HS-grad   \n",
       "3771            Private    Priv-house-serv            Divorced       HS-grad   \n",
       "...                 ...                ...                 ...           ...   \n",
       "6531            Private       Adm-clerical             Widowed       7th-8th   \n",
       "7112            Private    Exec-managerial  Married-civ-spouse     Bachelors   \n",
       "11159               NaN                NaN  Married-civ-spouse  Some-college   \n",
       "15442           Private  Machine-op-inspct            Divorced       HS-grad   \n",
       "14293       Federal-gov    Exec-managerial             Widowed       HS-grad   \n",
       "\n",
       "       hours_per_week  age  \n",
       "24150              40   35  \n",
       "13947              50   45  \n",
       "30818              40   50  \n",
       "5318               56   39  \n",
       "3771               40   51  \n",
       "...               ...  ...  \n",
       "6531               35   31  \n",
       "7112               60   36  \n",
       "11159              50   33  \n",
       "15442              40   26  \n",
       "14293              58   53  \n",
       "\n",
       "[26048 rows x 6 columns]"
      ]
     },
     "execution_count": 3,
     "metadata": {},
     "output_type": "execute_result"
    }
   ],
   "source": [
    "task.train_data"
   ]
  },
  {
   "cell_type": "markdown",
   "metadata": {},
   "source": [
    "### Train the provided baseline model\n",
    "\n",
    "Jenga allows us to easily train and evaluate a logistic regression model for this task. Have a look at https://github.com/schelterlabs/jenga/blob/master/jenga/tasks/income.py if you want to know the details.\n"
   ]
  },
  {
   "cell_type": "code",
   "execution_count": 4,
   "metadata": {},
   "outputs": [
    {
     "name": "stdout",
     "output_type": "stream",
     "text": [
      "Fitting 5 folds for each of 12 candidates, totalling 60 fits\n"
     ]
    },
    {
     "name": "stderr",
     "output_type": "stream",
     "text": [
      "[Parallel(n_jobs=-1)]: Using backend LokyBackend with 4 concurrent workers.\n",
      "[Parallel(n_jobs=-1)]: Done  42 tasks      | elapsed:   14.3s\n",
      "[Parallel(n_jobs=-1)]: Done  60 out of  60 | elapsed:   16.7s finished\n"
     ]
    }
   ],
   "source": [
    "model = task.fit_baseline_model(task.train_data,task.train_labels)"
   ]
  },
  {
   "cell_type": "code",
   "execution_count": 5,
   "metadata": {},
   "outputs": [
    {
     "data": {
      "text/plain": [
       "'The ROC AUC score on the test data is 0.8805623332782135'"
      ]
     },
     "execution_count": 5,
     "metadata": {},
     "output_type": "execute_result"
    }
   ],
   "source": [
    "y_pred = model.predict_proba(task.test_data)\n",
    "\n",
    "f\"The ROC AUC score on the test data is {task.score_on_test_data(y_pred)}\""
   ]
  },
  {
   "cell_type": "markdown",
   "metadata": {},
   "source": [
    "### Let's have a look at the test data"
   ]
  },
  {
   "cell_type": "code",
   "execution_count": 6,
   "metadata": {},
   "outputs": [
    {
     "data": {
      "text/html": [
       "<div>\n",
       "<style scoped>\n",
       "    .dataframe tbody tr th:only-of-type {\n",
       "        vertical-align: middle;\n",
       "    }\n",
       "\n",
       "    .dataframe tbody tr th {\n",
       "        vertical-align: top;\n",
       "    }\n",
       "\n",
       "    .dataframe thead th {\n",
       "        text-align: right;\n",
       "    }\n",
       "</style>\n",
       "<table border=\"1\" class=\"dataframe\">\n",
       "  <thead>\n",
       "    <tr style=\"text-align: right;\">\n",
       "      <th></th>\n",
       "      <th>workclass</th>\n",
       "      <th>occupation</th>\n",
       "      <th>marital_status</th>\n",
       "      <th>education</th>\n",
       "      <th>hours_per_week</th>\n",
       "      <th>age</th>\n",
       "    </tr>\n",
       "  </thead>\n",
       "  <tbody>\n",
       "    <tr>\n",
       "      <th>4616</th>\n",
       "      <td>Private</td>\n",
       "      <td>Adm-clerical</td>\n",
       "      <td>Divorced</td>\n",
       "      <td>Bachelors</td>\n",
       "      <td>40</td>\n",
       "      <td>36</td>\n",
       "    </tr>\n",
       "    <tr>\n",
       "      <th>4012</th>\n",
       "      <td>Private</td>\n",
       "      <td>Handlers-cleaners</td>\n",
       "      <td>Married-civ-spouse</td>\n",
       "      <td>7th-8th</td>\n",
       "      <td>40</td>\n",
       "      <td>35</td>\n",
       "    </tr>\n",
       "    <tr>\n",
       "      <th>21267</th>\n",
       "      <td>Private</td>\n",
       "      <td>Other-service</td>\n",
       "      <td>Married-civ-spouse</td>\n",
       "      <td>Some-college</td>\n",
       "      <td>40</td>\n",
       "      <td>33</td>\n",
       "    </tr>\n",
       "    <tr>\n",
       "      <th>19611</th>\n",
       "      <td>Private</td>\n",
       "      <td>Sales</td>\n",
       "      <td>Married-civ-spouse</td>\n",
       "      <td>Some-college</td>\n",
       "      <td>40</td>\n",
       "      <td>39</td>\n",
       "    </tr>\n",
       "    <tr>\n",
       "      <th>7033</th>\n",
       "      <td>Self-emp-not-inc</td>\n",
       "      <td>Sales</td>\n",
       "      <td>Married-civ-spouse</td>\n",
       "      <td>Some-college</td>\n",
       "      <td>60</td>\n",
       "      <td>61</td>\n",
       "    </tr>\n",
       "    <tr>\n",
       "      <th>...</th>\n",
       "      <td>...</td>\n",
       "      <td>...</td>\n",
       "      <td>...</td>\n",
       "      <td>...</td>\n",
       "      <td>...</td>\n",
       "      <td>...</td>\n",
       "    </tr>\n",
       "    <tr>\n",
       "      <th>11698</th>\n",
       "      <td>Private</td>\n",
       "      <td>Sales</td>\n",
       "      <td>Never-married</td>\n",
       "      <td>11th</td>\n",
       "      <td>20</td>\n",
       "      <td>17</td>\n",
       "    </tr>\n",
       "    <tr>\n",
       "      <th>11969</th>\n",
       "      <td>Private</td>\n",
       "      <td>Machine-op-inspct</td>\n",
       "      <td>Married-civ-spouse</td>\n",
       "      <td>Some-college</td>\n",
       "      <td>40</td>\n",
       "      <td>51</td>\n",
       "    </tr>\n",
       "    <tr>\n",
       "      <th>20581</th>\n",
       "      <td>Private</td>\n",
       "      <td>Prof-specialty</td>\n",
       "      <td>Married-civ-spouse</td>\n",
       "      <td>Bachelors</td>\n",
       "      <td>50</td>\n",
       "      <td>33</td>\n",
       "    </tr>\n",
       "    <tr>\n",
       "      <th>31503</th>\n",
       "      <td>Private</td>\n",
       "      <td>Prof-specialty</td>\n",
       "      <td>Married-civ-spouse</td>\n",
       "      <td>Some-college</td>\n",
       "      <td>64</td>\n",
       "      <td>34</td>\n",
       "    </tr>\n",
       "    <tr>\n",
       "      <th>21861</th>\n",
       "      <td>NaN</td>\n",
       "      <td>NaN</td>\n",
       "      <td>Married-civ-spouse</td>\n",
       "      <td>Masters</td>\n",
       "      <td>40</td>\n",
       "      <td>45</td>\n",
       "    </tr>\n",
       "  </tbody>\n",
       "</table>\n",
       "<p>6513 rows × 6 columns</p>\n",
       "</div>"
      ],
      "text/plain": [
       "              workclass         occupation      marital_status     education  \\\n",
       "4616            Private       Adm-clerical            Divorced     Bachelors   \n",
       "4012            Private  Handlers-cleaners  Married-civ-spouse       7th-8th   \n",
       "21267           Private      Other-service  Married-civ-spouse  Some-college   \n",
       "19611           Private              Sales  Married-civ-spouse  Some-college   \n",
       "7033   Self-emp-not-inc              Sales  Married-civ-spouse  Some-college   \n",
       "...                 ...                ...                 ...           ...   \n",
       "11698           Private              Sales       Never-married          11th   \n",
       "11969           Private  Machine-op-inspct  Married-civ-spouse  Some-college   \n",
       "20581           Private     Prof-specialty  Married-civ-spouse     Bachelors   \n",
       "31503           Private     Prof-specialty  Married-civ-spouse  Some-college   \n",
       "21861               NaN                NaN  Married-civ-spouse       Masters   \n",
       "\n",
       "       hours_per_week  age  \n",
       "4616               40   36  \n",
       "4012               40   35  \n",
       "21267              40   33  \n",
       "19611              40   39  \n",
       "7033               60   61  \n",
       "...               ...  ...  \n",
       "11698              20   17  \n",
       "11969              40   51  \n",
       "20581              50   33  \n",
       "31503              64   34  \n",
       "21861              40   45  \n",
       "\n",
       "[6513 rows x 6 columns]"
      ]
     },
     "execution_count": 6,
     "metadata": {},
     "output_type": "execute_result"
    }
   ],
   "source": [
    "task.test_data"
   ]
  },
  {
   "cell_type": "markdown",
   "metadata": {},
   "source": [
    "### Corruptions\n",
    "\n",
    "Jenga provides a set of predefined data corruptions that we can use to simulate errors in the test data. We will simulate 'implicit missing values' in a column and see how this impacts the prediction quality.\n",
    "\n",
    "Jenga supports much more predefined corruptions, have a look at https://github.com/schelterlabs/jenga/tree/master/jenga/corruptions.\n"
   ]
  },
  {
   "cell_type": "code",
   "execution_count": 7,
   "metadata": {},
   "outputs": [],
   "source": [
    "from jenga.corruptions.generic import MissingValues\n",
    "\n",
    "marital_status_corruption = MissingValues(column='marital_status', fraction=0.99, na_value='BROKEN')"
   ]
  },
  {
   "cell_type": "code",
   "execution_count": 8,
   "metadata": {},
   "outputs": [
    {
     "data": {
      "text/html": [
       "<div>\n",
       "<style scoped>\n",
       "    .dataframe tbody tr th:only-of-type {\n",
       "        vertical-align: middle;\n",
       "    }\n",
       "\n",
       "    .dataframe tbody tr th {\n",
       "        vertical-align: top;\n",
       "    }\n",
       "\n",
       "    .dataframe thead th {\n",
       "        text-align: right;\n",
       "    }\n",
       "</style>\n",
       "<table border=\"1\" class=\"dataframe\">\n",
       "  <thead>\n",
       "    <tr style=\"text-align: right;\">\n",
       "      <th></th>\n",
       "      <th>workclass</th>\n",
       "      <th>occupation</th>\n",
       "      <th>marital_status</th>\n",
       "      <th>education</th>\n",
       "      <th>hours_per_week</th>\n",
       "      <th>age</th>\n",
       "    </tr>\n",
       "  </thead>\n",
       "  <tbody>\n",
       "    <tr>\n",
       "      <th>4616</th>\n",
       "      <td>Private</td>\n",
       "      <td>Adm-clerical</td>\n",
       "      <td>BROKEN</td>\n",
       "      <td>Bachelors</td>\n",
       "      <td>40</td>\n",
       "      <td>36</td>\n",
       "    </tr>\n",
       "    <tr>\n",
       "      <th>4012</th>\n",
       "      <td>Private</td>\n",
       "      <td>Handlers-cleaners</td>\n",
       "      <td>BROKEN</td>\n",
       "      <td>7th-8th</td>\n",
       "      <td>40</td>\n",
       "      <td>35</td>\n",
       "    </tr>\n",
       "    <tr>\n",
       "      <th>21267</th>\n",
       "      <td>Private</td>\n",
       "      <td>Other-service</td>\n",
       "      <td>BROKEN</td>\n",
       "      <td>Some-college</td>\n",
       "      <td>40</td>\n",
       "      <td>33</td>\n",
       "    </tr>\n",
       "    <tr>\n",
       "      <th>19611</th>\n",
       "      <td>Private</td>\n",
       "      <td>Sales</td>\n",
       "      <td>BROKEN</td>\n",
       "      <td>Some-college</td>\n",
       "      <td>40</td>\n",
       "      <td>39</td>\n",
       "    </tr>\n",
       "    <tr>\n",
       "      <th>7033</th>\n",
       "      <td>Self-emp-not-inc</td>\n",
       "      <td>Sales</td>\n",
       "      <td>BROKEN</td>\n",
       "      <td>Some-college</td>\n",
       "      <td>60</td>\n",
       "      <td>61</td>\n",
       "    </tr>\n",
       "    <tr>\n",
       "      <th>...</th>\n",
       "      <td>...</td>\n",
       "      <td>...</td>\n",
       "      <td>...</td>\n",
       "      <td>...</td>\n",
       "      <td>...</td>\n",
       "      <td>...</td>\n",
       "    </tr>\n",
       "    <tr>\n",
       "      <th>11698</th>\n",
       "      <td>Private</td>\n",
       "      <td>Sales</td>\n",
       "      <td>BROKEN</td>\n",
       "      <td>11th</td>\n",
       "      <td>20</td>\n",
       "      <td>17</td>\n",
       "    </tr>\n",
       "    <tr>\n",
       "      <th>11969</th>\n",
       "      <td>Private</td>\n",
       "      <td>Machine-op-inspct</td>\n",
       "      <td>BROKEN</td>\n",
       "      <td>Some-college</td>\n",
       "      <td>40</td>\n",
       "      <td>51</td>\n",
       "    </tr>\n",
       "    <tr>\n",
       "      <th>20581</th>\n",
       "      <td>Private</td>\n",
       "      <td>Prof-specialty</td>\n",
       "      <td>BROKEN</td>\n",
       "      <td>Bachelors</td>\n",
       "      <td>50</td>\n",
       "      <td>33</td>\n",
       "    </tr>\n",
       "    <tr>\n",
       "      <th>31503</th>\n",
       "      <td>Private</td>\n",
       "      <td>Prof-specialty</td>\n",
       "      <td>BROKEN</td>\n",
       "      <td>Some-college</td>\n",
       "      <td>64</td>\n",
       "      <td>34</td>\n",
       "    </tr>\n",
       "    <tr>\n",
       "      <th>21861</th>\n",
       "      <td>NaN</td>\n",
       "      <td>NaN</td>\n",
       "      <td>BROKEN</td>\n",
       "      <td>Masters</td>\n",
       "      <td>40</td>\n",
       "      <td>45</td>\n",
       "    </tr>\n",
       "  </tbody>\n",
       "</table>\n",
       "<p>6513 rows × 6 columns</p>\n",
       "</div>"
      ],
      "text/plain": [
       "              workclass         occupation marital_status     education  \\\n",
       "4616            Private       Adm-clerical         BROKEN     Bachelors   \n",
       "4012            Private  Handlers-cleaners         BROKEN       7th-8th   \n",
       "21267           Private      Other-service         BROKEN  Some-college   \n",
       "19611           Private              Sales         BROKEN  Some-college   \n",
       "7033   Self-emp-not-inc              Sales         BROKEN  Some-college   \n",
       "...                 ...                ...            ...           ...   \n",
       "11698           Private              Sales         BROKEN          11th   \n",
       "11969           Private  Machine-op-inspct         BROKEN  Some-college   \n",
       "20581           Private     Prof-specialty         BROKEN     Bachelors   \n",
       "31503           Private     Prof-specialty         BROKEN  Some-college   \n",
       "21861               NaN                NaN         BROKEN       Masters   \n",
       "\n",
       "       hours_per_week  age  \n",
       "4616               40   36  \n",
       "4012               40   35  \n",
       "21267              40   33  \n",
       "19611              40   39  \n",
       "7033               60   61  \n",
       "...               ...  ...  \n",
       "11698              20   17  \n",
       "11969              40   51  \n",
       "20581              50   33  \n",
       "31503              64   34  \n",
       "21861              40   45  \n",
       "\n",
       "[6513 rows x 6 columns]"
      ]
     },
     "execution_count": 8,
     "metadata": {},
     "output_type": "execute_result"
    }
   ],
   "source": [
    "corrupted_test_data = marital_status_corruption.transform(task.test_data)\n",
    "corrupted_test_data"
   ]
  },
  {
   "cell_type": "code",
   "execution_count": 9,
   "metadata": {},
   "outputs": [
    {
     "data": {
      "text/plain": [
       "'The ROC AUC score on the corrupted test data is 0.8043601419218791'"
      ]
     },
     "execution_count": 9,
     "metadata": {},
     "output_type": "execute_result"
    }
   ],
   "source": [
    "y_pred = model.predict_proba(corrupted_test_data)\n",
    "\n",
    "f\"The ROC AUC score on the corrupted test data is {task.score_on_test_data(y_pred)}\""
   ]
  },
  {
   "cell_type": "markdown",
   "metadata": {},
   "source": [
    "### Jenga's evaluators\n",
    "\n",
    "Jenga provides a set of evaluators which allow us to automate the evaluation of the impact of given data corruptions."
   ]
  },
  {
   "cell_type": "code",
   "execution_count": 10,
   "metadata": {},
   "outputs": [],
   "source": [
    "from jenga.evaluation.corruption_impact import CorruptionImpactEvaluator\n",
    "\n",
    "evaluator = CorruptionImpactEvaluator(task)"
   ]
  },
  {
   "cell_type": "code",
   "execution_count": 11,
   "metadata": {},
   "outputs": [],
   "source": [
    "corruptions = [\n",
    "    MissingValues(column='marital_status', fraction=0.99, na_value='BROKEN'),\n",
    "    MissingValues(column='age', fraction=0.05, na_value=-999),\n",
    "]"
   ]
  },
  {
   "cell_type": "markdown",
   "metadata": {},
   "source": [
    "### Run the evaluation of the corruptions with 10 repetitions "
   ]
  },
  {
   "cell_type": "code",
   "execution_count": 12,
   "metadata": {},
   "outputs": [
    {
     "name": "stdout",
     "output_type": "stream",
     "text": [
      "0/20 (0.035998000000001085)\n",
      "10/20 (0.37091600000000113)\n"
     ]
    }
   ],
   "source": [
    "num_repetitions = 10\n",
    "results = evaluator.evaluate(model, num_repetitions, *corruptions)"
   ]
  },
  {
   "cell_type": "markdown",
   "metadata": {},
   "source": [
    "### Investigate the impact on the predictive performance of the model"
   ]
  },
  {
   "cell_type": "code",
   "execution_count": 13,
   "metadata": {},
   "outputs": [
    {
     "name": "stdout",
     "output_type": "stream",
     "text": [
      "MissingValues: {'column': 'marital_status', 'fraction': 0.99, 'sampling': 'MCAR', 'na_value': 'BROKEN'}\n",
      "\n",
      "     Score (AUC) on \n",
      "      clean data:     0.8805623332782135\n",
      "      corrupted data: 0.8039859566886243\n",
      "     \n",
      "\n",
      "\n",
      "MissingValues: {'column': 'age', 'fraction': 0.05, 'sampling': 'MCAR', 'na_value': -999}\n",
      "\n",
      "     Score (AUC) on \n",
      "      clean data:     0.8805623332782135\n",
      "      corrupted data: 0.8450253502187687\n",
      "     \n",
      "\n",
      "\n"
     ]
    }
   ],
   "source": [
    "for validation_result in results:\n",
    "    \n",
    "    print(validation_result.corruption)\n",
    "    print(f\"\"\"\n",
    "     Score (AUC) on \n",
    "      clean data:     {validation_result.baseline_score}\n",
    "      corrupted data: {np.mean(validation_result.corrupted_scores)}\n",
    "     \"\"\")    \n",
    "    print(\"\\n\")"
   ]
  }
 ],
 "metadata": {
  "kernelspec": {
   "display_name": "Python 3",
   "language": "python",
   "name": "python3"
  },
  "language_info": {
   "codemirror_mode": {
    "name": "ipython",
    "version": 3
   },
   "file_extension": ".py",
   "mimetype": "text/x-python",
   "name": "python",
   "nbconvert_exporter": "python",
   "pygments_lexer": "ipython3",
   "version": "3.8.5"
  }
 },
 "nbformat": 4,
 "nbformat_minor": 4
}
